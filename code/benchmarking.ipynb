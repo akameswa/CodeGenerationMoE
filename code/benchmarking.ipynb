{
  "cells": [
    {
      "cell_type": "markdown",
      "metadata": {
        "id": "OC5U5J6IpNUT"
      },
      "source": [
        "# MultiPL-E"
      ]
    },
    {
      "cell_type": "code",
      "execution_count": null,
      "metadata": {
        "colab": {
          "base_uri": "https://localhost:8080/"
        },
        "id": "CV2sC1WjlFDQ",
        "outputId": "7c60305f-e8b4-4d37-a927-fdec8e2338e7"
      },
      "outputs": [],
      "source": [
        "!pip3 install aiohttp numpy tqdm pytest datasets torch einops -q\n",
        "!git clone https://github.com/nuprl/MultiPL-E\n",
        "!pip install -i https://pypi.org/simple/ bitsandbytes -q\n",
        "!apt-get -qq install docker.io --fix-missing\n",
        "!pip install -qU transformers accelerate"
      ]
    },
    {
      "cell_type": "markdown",
      "metadata": {
        "id": "XChg3XDtopU6"
      },
      "source": [
        "Follow the below instructions:\n",
        "1. Remove `.cuda` from line 16 of `automodel.py` from `MultiPL-E` folder.\n",
        "2. Add `\"load_in_4bit\": True` within `model_kwargs` on line 164 of `automodel.py`"
      ]
    },
    {
      "cell_type": "code",
      "execution_count": null,
      "metadata": {
        "colab": {
          "base_uri": "https://localhost:8080/"
        },
        "id": "cYXomtTolxpX",
        "outputId": "8b6adc27-5877-4e0b-9be3-e3ace594f5de"
      },
      "outputs": [],
      "source": [
        "!rm -rf tutorial\n",
        "!mkdir tutorial\n",
        "!python3 MultiPL-E/automodel.py --name akameswa/mistral-7b-instruct-code-4bit --root-dataset humaneval --lang py --temperature 0.2 --batch-size 20 --completion-limit 20 --output-dir-prefix tutorial"
      ]
    },
    {
      "cell_type": "markdown",
      "metadata": {
        "id": "JFBMUV_g-Pd4"
      },
      "source": [
        "## Evaluate"
      ]
    },
    {
      "cell_type": "code",
      "execution_count": null,
      "metadata": {
        "id": "vEG2OQB75ezM"
      },
      "outputs": [],
      "source": [
        "%%shell\n",
        "set -x\n",
        "dockerd -b none --iptables=0 -l warn &\n",
        "for i in $(seq 5); do [ ! -S \"/var/run/docker.sock\" ] && sleep 2 || break; done\n",
        "docker pull ghcr.io/nuprl/multipl-e-evaluation\n",
        "docker tag ghcr.io/nuprl/multipl-e-evaluation multipl-e-eval\n",
        "docker run --rm --network none -v ./tutorial:/tutorial:rw multipl-e-eval --dir /tutorial --output-dir /tutorial --recursive\n",
        "kill $(jobs -p)"
      ]
    },
    {
      "cell_type": "code",
      "execution_count": null,
      "metadata": {
        "id": "wZ3fopGx82_s"
      },
      "outputs": [],
      "source": [
        "!python3 /content/MultiPL-E/pass_k.py ./tutorial/*"
      ]
    }
  ],
  "metadata": {
    "accelerator": "GPU",
    "colab": {
      "gpuType": "T4",
      "provenance": []
    },
    "kernelspec": {
      "display_name": "Python 3",
      "name": "python3"
    },
    "language_info": {
      "name": "python"
    }
  },
  "nbformat": 4,
  "nbformat_minor": 0
}
